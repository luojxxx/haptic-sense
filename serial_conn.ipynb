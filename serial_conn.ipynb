{
 "cells": [
  {
   "cell_type": "code",
   "execution_count": 17,
   "metadata": {},
   "outputs": [],
   "source": [
    "import sys\n",
    "import serial\n",
    "\n",
    "serialPort = '/dev/cu.usbmodem14301'\n",
    "baudRate = 115200\n",
    "usbConnection = serial.Serial(serialPort, baudRate)"
   ]
  },
  {
   "cell_type": "code",
   "execution_count": 18,
   "metadata": {},
   "outputs": [],
   "source": [
    "def commandArduino(string, blocking):\n",
    "    print(string, end='')\n",
    "    outputStr = string + '\\n'\n",
    "    outputStr = bytes(outputStr, 'utf-8')\n",
    "    usbConnection.write(outputStr)\n",
    "    \n",
    "    if blocking==False:\n",
    "        usbConnection.reset_input_buffer()\n",
    "        print('')\n",
    "    else:\n",
    "        state = ''\n",
    "        while state != 'Command complete':\n",
    "            state = usbConnection.readline().decode().strip()\n",
    "        print(' -- Command completed')"
   ]
  },
  {
   "cell_type": "code",
   "execution_count": 20,
   "metadata": {},
   "outputs": [
    {
     "name": "stdout",
     "output_type": "stream",
     "text": [
      "vibrate,0\n"
     ]
    }
   ],
   "source": [
    "commandArduino('vibrate,0', False)"
   ]
  },
  {
   "cell_type": "code",
   "execution_count": null,
   "metadata": {},
   "outputs": [],
   "source": []
  }
 ],
 "metadata": {
  "kernelspec": {
   "display_name": "Python 3",
   "language": "python",
   "name": "python3"
  },
  "language_info": {
   "codemirror_mode": {
    "name": "ipython",
    "version": 3
   },
   "file_extension": ".py",
   "mimetype": "text/x-python",
   "name": "python",
   "nbconvert_exporter": "python",
   "pygments_lexer": "ipython3",
   "version": "3.8.5"
  }
 },
 "nbformat": 4,
 "nbformat_minor": 4
}
