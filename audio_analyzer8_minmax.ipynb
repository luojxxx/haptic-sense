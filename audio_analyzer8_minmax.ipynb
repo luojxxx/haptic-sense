{
 "cells": [
  {
   "cell_type": "code",
   "execution_count": null,
   "metadata": {},
   "outputs": [],
   "source": [
    "import pyaudio\n",
    "import os\n",
    "import struct\n",
    "import numpy as np\n",
    "import time\n",
    "\n",
    "# constants\n",
    "CHUNK = 1024             # samples per frame\n",
    "FORMAT = pyaudio.paInt16    # audio format (bytes per sample?)\n",
    "CHANNELS = 1                 # single channel for microphone\n",
    "RATE = 44100                 # samples per second"
   ]
  },
  {
   "cell_type": "code",
   "execution_count": null,
   "metadata": {},
   "outputs": [],
   "source": [
    "import sys\n",
    "import serial\n",
    "\n",
    "serialPort = '/dev/cu.usbmodem14301'\n",
    "baudRate = 115200\n",
    "usbConnection = serial.Serial(serialPort, baudRate)\n",
    "\n",
    "def commandArduino(string):\n",
    "    outputStr = string + '\\n'\n",
    "    outputStr = bytes(outputStr, 'utf-8')\n",
    "    usbConnection.write(outputStr)\n",
    "    usbConnection.reset_input_buffer()"
   ]
  },
  {
   "cell_type": "code",
   "execution_count": null,
   "metadata": {
    "scrolled": true
   },
   "outputs": [],
   "source": [
    "# pyaudio class instance\n",
    "p = pyaudio.PyAudio()\n",
    "\n",
    "# stream object to get data from microphone\n",
    "stream = p.open(\n",
    "    format=FORMAT,\n",
    "    channels=CHANNELS,\n",
    "    rate=RATE,\n",
    "    input=True,\n",
    "    output=True,\n",
    "    frames_per_buffer=CHUNK\n",
    ")\n",
    "\n",
    "while True:\n",
    "    try:\n",
    "        data = stream.read(CHUNK, exception_on_overflow = False)\n",
    "        data_np = np.frombuffer(data, dtype=np.int16)\n",
    "\n",
    "        # volume\n",
    "        delta = np.max(data_np) - np.min(data_np)\n",
    "        delta_mod = int(np.abs(delta) ** 0.7)\n",
    "        delta_bounded = min(max(delta_mod, 0), 128)\n",
    "\n",
    "        commandArduino(f'vibrate,{delta_bounded}')\n",
    "        print(delta, delta_bounded)\n",
    "\n",
    "    except:\n",
    "        p.close(stream)"
   ]
  },
  {
   "cell_type": "code",
   "execution_count": null,
   "metadata": {},
   "outputs": [],
   "source": []
  },
  {
   "cell_type": "code",
   "execution_count": null,
   "metadata": {},
   "outputs": [],
   "source": []
  }
 ],
 "metadata": {
  "kernelspec": {
   "display_name": "Python 3",
   "language": "python",
   "name": "python3"
  },
  "language_info": {
   "codemirror_mode": {
    "name": "ipython",
    "version": 3
   },
   "file_extension": ".py",
   "mimetype": "text/x-python",
   "name": "python",
   "nbconvert_exporter": "python",
   "pygments_lexer": "ipython3",
   "version": "3.8.5"
  }
 },
 "nbformat": 4,
 "nbformat_minor": 4
}
