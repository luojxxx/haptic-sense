{
 "cells": [
  {
   "cell_type": "code",
   "execution_count": null,
   "metadata": {},
   "outputs": [],
   "source": [
    "import pyaudio\n",
    "import os\n",
    "import numpy as np\n",
    "import time\n",
    "\n",
    "# constants\n",
    "CHUNK = 1024             # samples per frame\n",
    "FORMAT = pyaudio.paInt16    # audio format (bytes per sample?)\n",
    "CHANNELS = 1                 # single channel for microphone\n",
    "RATE = 44100                 # samples per second"
   ]
  },
  {
   "cell_type": "code",
   "execution_count": null,
   "metadata": {},
   "outputs": [],
   "source": [
    "import sys\n",
    "import serial\n",
    "\n",
    "serialPort = '/dev/cu.usbmodem14301'\n",
    "baudRate = 115200\n",
    "usbConnection = serial.Serial(serialPort, baudRate)\n",
    "\n",
    "def commandArduino(string):\n",
    "    outputStr = string + '\\n'\n",
    "    outputStr = bytes(outputStr, 'utf-8')\n",
    "    usbConnection.write(outputStr)\n",
    "    usbConnection.reset_input_buffer()"
   ]
  },
  {
   "cell_type": "markdown",
   "metadata": {},
   "source": [
    "# Figure out how to auto-scale sensitivity\n",
    "    - Use a running average\n",
    "    - Take into account how much is being clipped at the upper range and feed it back into the delta modifier\n",
    "    \n",
    "## Or maybe leave sensitivity constant with manual adjustment and allow the user to naturally ignore or pay attention to vibration\n",
    "## But should avoid clipping upper range, so that loudest sounds always stand out"
   ]
  },
  {
   "cell_type": "code",
   "execution_count": null,
   "metadata": {},
   "outputs": [],
   "source": [
    "class runningAverage:\n",
    "    def __init__(self, limit):\n",
    "        self.arr = np.array([] * limit)\n",
    "        self.limit = limit\n",
    "    def append(self, value):\n",
    "        if len(self.arr) >= self.limit:\n",
    "            self.arr = self.arr[1:]\n",
    "        self.arr = np.append(self.arr, value)\n",
    "    def average(self):\n",
    "        return np.average(self.arr)"
   ]
  },
  {
   "cell_type": "code",
   "execution_count": null,
   "metadata": {},
   "outputs": [],
   "source": []
  },
  {
   "cell_type": "code",
   "execution_count": null,
   "metadata": {
    "scrolled": true
   },
   "outputs": [],
   "source": [
    "# pyaudio class instance\n",
    "p = pyaudio.PyAudio()\n",
    "\n",
    "# stream object to get data from microphone\n",
    "stream = p.open(\n",
    "    format=FORMAT,\n",
    "    channels=CHANNELS,\n",
    "    rate=RATE,\n",
    "    input=True,\n",
    "    output=True,\n",
    "    frames_per_buffer=CHUNK\n",
    ")\n",
    "\n",
    "# for measuring frame rate\n",
    "frame_count = 0\n",
    "frame_limit = 100\n",
    "start_time = time.time()\n",
    "\n",
    "mod_value = 0.7\n",
    "mod_average = runningAverage(100)\n",
    "\n",
    "while True:\n",
    "    data = stream.read(CHUNK, exception_on_overflow = False)\n",
    "    data_np = np.frombuffer(data, dtype=np.int16)\n",
    "    \n",
    "    # volume\n",
    "    delta = np.max(data_np) - np.min(data_np)\n",
    "    delta_mod = int(np.abs(delta) ** mod_value)\n",
    "    delta_bounded = min(max(delta_mod, 0), 128)\n",
    "    \n",
    "    mod_bounded_diff = delta_mod - delta_bounded\n",
    "    mod_average.append(mod_bounded_diff ** 0.25)\n",
    "    mod_value = (1 / (mod_average.average() + 4)) + 0.5\n",
    "\n",
    "    commandArduino(f'vibrate,{delta_bounded}')\n",
    "    print(delta, delta_bounded, mod_value)\n",
    "    \n",
    "    frame_count += 1\n",
    "\n",
    "end_time = time.time()\n",
    "print(frame_limit / (end_time - start_time))"
   ]
  },
  {
   "cell_type": "code",
   "execution_count": null,
   "metadata": {},
   "outputs": [],
   "source": []
  }
 ],
 "metadata": {
  "kernelspec": {
   "display_name": "Python 3",
   "language": "python",
   "name": "python3"
  },
  "language_info": {
   "codemirror_mode": {
    "name": "ipython",
    "version": 3
   },
   "file_extension": ".py",
   "mimetype": "text/x-python",
   "name": "python",
   "nbconvert_exporter": "python",
   "pygments_lexer": "ipython3",
   "version": "3.8.5"
  }
 },
 "nbformat": 4,
 "nbformat_minor": 4
}
