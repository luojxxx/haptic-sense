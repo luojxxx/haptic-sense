{
 "cells": [
  {
   "cell_type": "code",
   "execution_count": null,
   "metadata": {},
   "outputs": [],
   "source": [
    "\"\"\"\n",
    "Notebook for streaming data from a microphone in realtime\n",
    "\n",
    "audio is captured using pyaudio\n",
    "then converted from binary data to ints using struct\n",
    "then displayed using matplotlib\n",
    "\n",
    "scipy.fftpack computes the FFT\n",
    "\n",
    "if you don't have pyaudio, then run\n",
    "\n",
    ">>> pip install pyaudio\n",
    "\n",
    "note: with 2048 samples per chunk, I'm getting 20FPS\n",
    "when also running the spectrum, its about 15FPS\n",
    "\"\"\"\n",
    "\n",
    "import pyaudio\n",
    "import os\n",
    "import struct\n",
    "import numpy as np\n",
    "import time\n",
    "\n",
    "# constants\n",
    "CHUNK = 1024             # samples per frame\n",
    "FORMAT = pyaudio.paInt16    # audio format (bytes per sample?)\n",
    "CHANNELS = 1                 # single channel for microphone\n",
    "RATE = 44100                 # samples per second"
   ]
  },
  {
   "cell_type": "code",
   "execution_count": null,
   "metadata": {},
   "outputs": [],
   "source": [
    "import sys\n",
    "import serial\n",
    "\n",
    "serialPort = '/dev/cu.usbmodem14301'\n",
    "baudRate = 115200\n",
    "usbConnection = serial.Serial(serialPort, baudRate)\n",
    "\n",
    "def commandArduino(string):\n",
    "    outputStr = string + '\\n'\n",
    "    outputStr = bytes(outputStr, 'utf-8')\n",
    "    usbConnection.write(outputStr)\n",
    "    usbConnection.reset_input_buffer()"
   ]
  },
  {
   "cell_type": "code",
   "execution_count": null,
   "metadata": {
    "scrolled": true
   },
   "outputs": [],
   "source": [
    "# pyaudio class instance\n",
    "p = pyaudio.PyAudio()\n",
    "\n",
    "# stream object to get data from microphone\n",
    "stream = p.open(\n",
    "    format=FORMAT,\n",
    "    channels=CHANNELS,\n",
    "    rate=RATE,\n",
    "    input=True,\n",
    "    output=True,\n",
    "    frames_per_buffer=CHUNK\n",
    ")\n",
    "\n",
    "# for measuring frame rate\n",
    "frame_count = 0\n",
    "frame_limit = 100\n",
    "start_time = time.time()\n",
    "\n",
    "while True:\n",
    "    data = stream.read(CHUNK, exception_on_overflow = False)\n",
    "    data_np = np.frombuffer(data, dtype=np.int16)\n",
    "    \n",
    "    # volume\n",
    "    delta = np.max(data_np) - np.min(data_np)\n",
    "    delta_mod = int(np.abs(delta) ** 0.7)\n",
    "    delta_bounded = min(max(delta_mod, 0), 128)\n",
    "\n",
    "    commandArduino(f'vibrate,{delta_bounded}')\n",
    "    print(delta, delta_bounded)\n",
    "    \n",
    "    frame_count += 1\n",
    "\n",
    "end_time = time.time()\n",
    "print(frame_limit / (end_time - start_time))"
   ]
  },
  {
   "cell_type": "code",
   "execution_count": null,
   "metadata": {},
   "outputs": [],
   "source": []
  }
 ],
 "metadata": {
  "kernelspec": {
   "display_name": "Python 3",
   "language": "python",
   "name": "python3"
  },
  "language_info": {
   "codemirror_mode": {
    "name": "ipython",
    "version": 3
   },
   "file_extension": ".py",
   "mimetype": "text/x-python",
   "name": "python",
   "nbconvert_exporter": "python",
   "pygments_lexer": "ipython3",
   "version": "3.8.5"
  }
 },
 "nbformat": 4,
 "nbformat_minor": 4
}
